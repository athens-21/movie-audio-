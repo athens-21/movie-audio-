{
  "nbformat": 4,
  "nbformat_minor": 0,
  "metadata": {
    "colab": {
      "provenance": [],
      "authorship_tag": "ABX9TyN1Bvieq8PHn4hKf4PKp66h",
      "include_colab_link": true
    },
    "kernelspec": {
      "name": "python3",
      "display_name": "Python 3"
    },
    "language_info": {
      "name": "python"
    }
  },
  "cells": [
    {
      "cell_type": "markdown",
      "metadata": {
        "id": "view-in-github",
        "colab_type": "text"
      },
      "source": [
        "<a href=\"https://colab.research.google.com/github/athens-21/movie-audio-/blob/main/movie_barcode.ipynb\" target=\"_parent\"><img src=\"https://colab.research.google.com/assets/colab-badge.svg\" alt=\"Open In Colab\"/></a>"
      ]
    },
    {
      "cell_type": "code",
      "source": [
        "import cv2\n",
        "import numpy as np"
      ],
      "metadata": {
        "id": "KlYj1ZXZRUMW"
      },
      "execution_count": 1,
      "outputs": []
    },
    {
      "cell_type": "code",
      "execution_count": 2,
      "metadata": {
        "colab": {
          "base_uri": "https://localhost:8080/"
        },
        "id": "btgyjGPnPX3a",
        "outputId": "c3667059-1bfc-49f3-cd51-d575af044448"
      },
      "outputs": [
        {
          "output_type": "stream",
          "name": "stdout",
          "text": [
            "Barcode saved at /content/interstellar_barcode.jpg\n"
          ]
        }
      ],
      "source": [
        "def create_movie_barcode(video_path, output_path, desired_height=200, frame_interval=500, max_frames=500):\n",
        "    cap = cv2.VideoCapture(video_path)\n",
        "    frames_list = []\n",
        "    frame_count = 0\n",
        "\n",
        "    while True:\n",
        "        ret, frame = cap.read()\n",
        "        if not ret:\n",
        "            break  # No more frames to process\n",
        "\n",
        "        # Sample the frame based on the frame interval\n",
        "        if frame_count % frame_interval == 0:\n",
        "            # Resize the frame to 1 pixel wide and desired height\n",
        "            column = cv2.resize(frame, (1, desired_height), interpolation=cv2.INTER_AREA)\n",
        "            frames_list.append(column)\n",
        "\n",
        "        # Stop if we've collected enough frames\n",
        "        if len(frames_list) >= max_frames:\n",
        "            break\n",
        "\n",
        "        frame_count += 1\n",
        "\n",
        "    cap.release()\n",
        "\n",
        "    # Combine all frames horizontally to form the barcode\n",
        "    if frames_list:\n",
        "        barcode = np.hstack(frames_list)\n",
        "        cv2.imwrite(output_path, barcode)\n",
        "        print(f\"Barcode saved at {output_path}\")\n",
        "    else:\n",
        "        print(\"No frames found or unable to read video\")\n",
        "\n",
        "# Example usage:\n",
        "create_movie_barcode(\n",
        "    video_path=\"/content/Novocaine-480P.mp4\",\n",
        "    output_path=\"/content/interstellar_barcode.jpg\",\n",
        "    desired_height=200,\n",
        "    frame_interval=500,  # Adjust to capture every 500th frame\n",
        "    max_frames=100  # Limit to 10 frames\n",
        ")\n"
      ]
    }
  ]
}